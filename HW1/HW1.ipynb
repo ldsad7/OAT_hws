{
  "nbformat": 4,
  "nbformat_minor": 0,
  "metadata": {
    "colab": {
      "name": "ДЗ1.ipynb",
      "provenance": [],
      "collapsed_sections": []
    },
    "kernelspec": {
      "name": "python3",
      "display_name": "Python 3"
    },
    "accelerator": "GPU"
  },
  "cells": [
    {
      "cell_type": "code",
      "metadata": {
        "id": "SRFkD9MEyqQU",
        "colab_type": "code",
        "colab": {
          "base_uri": "https://localhost:8080/",
          "height": 134
        },
        "outputId": "142f611a-f85d-4f5f-f807-80bfbdc9b919"
      },
      "source": [
        "# import libraries\n",
        "import requests\n",
        "import re\n",
        "!pip3.6 install python-rake\n",
        "import RAKE\n",
        "import nltk\n",
        "nltk.download('stopwords')\n",
        "from nltk.corpus import stopwords\n",
        "!pip install pymorphy2\n",
        "from pymorphy2 import MorphAnalyzer\n",
        "from pymorphy2.tokenizers import simple_word_tokenize\n",
        "from gensim.summarization import keywords as kw\n",
        "from sklearn.feature_extraction.text import TfidfVectorizer\n",
        "import numpy as np\n",
        "import matplotlib.pyplot as plt"
      ],
      "execution_count": 364,
      "outputs": [
        {
          "output_type": "stream",
          "text": [
            "Requirement already satisfied: python-rake in /usr/local/lib/python3.6/dist-packages (1.4.5)\n",
            "[nltk_data] Downloading package stopwords to /root/nltk_data...\n",
            "[nltk_data]   Package stopwords is already up-to-date!\n",
            "Requirement already satisfied: pymorphy2 in /usr/local/lib/python3.6/dist-packages (0.8)\n",
            "Requirement already satisfied: pymorphy2-dicts<3.0,>=2.4 in /usr/local/lib/python3.6/dist-packages (from pymorphy2) (2.4.393442.3710985)\n",
            "Requirement already satisfied: docopt>=0.6 in /usr/local/lib/python3.6/dist-packages (from pymorphy2) (0.6.2)\n",
            "Requirement already satisfied: dawg-python>=0.7 in /usr/local/lib/python3.6/dist-packages (from pymorphy2) (0.7.2)\n"
          ],
          "name": "stdout"
        }
      ]
    },
    {
      "cell_type": "code",
      "metadata": {
        "id": "d2LNR1k8icR1",
        "colab_type": "code",
        "colab": {}
      },
      "source": [
        "rus_stopwords = stopwords.words('russian')\n",
        "morph_analyzer = MorphAnalyzer()\n",
        "NUM_OF_WORDS = 15"
      ],
      "execution_count": 0,
      "outputs": []
    },
    {
      "cell_type": "markdown",
      "metadata": {
        "id": "fY9-EFgF1F0v",
        "colab_type": "text"
      },
      "source": [
        "1. Подготовить мини-корпус (4-5 текстов или до 10 тысяч токенов) с разметкой ключевых слов. Желательно указать источник корпуса и описать, в каком виде там были представлены ключевые слова."
      ]
    },
    {
      "cell_type": "code",
      "metadata": {
        "id": "V2cWY6TV1DyL",
        "colab_type": "code",
        "colab": {}
      },
      "source": [
        "# Source: https://www.novayagazeta.ru/\n",
        "# Keywords: \"Теги\"\n",
        "\n",
        "urls = [\n",
        "    \"https://www.novayagazeta.ru/articles/2019/11/15/82747-v-rossiyskoy-armii-net-primerov-muzhelozhestva\",\n",
        "    \"https://www.novayagazeta.ru/articles/2019/11/16/82753-musor-revolyutsiya-edinstvo\",\n",
        "    \"https://www.novayagazeta.ru/articles/2019/11/14/82737-promezhutochnye-itogi-vyborov-v-ran\",\n",
        "    \"https://www.novayagazeta.ru/articles/2019/11/14/82731-eto-ne-ya-vas-pytal\",\n",
        "    \"https://www.novayagazeta.ru/articles/2019/11/06/82631-byudzhet-na-povyshennyh-tonah\"\n",
        "]"
      ],
      "execution_count": 0,
      "outputs": []
    },
    {
      "cell_type": "code",
      "metadata": {
        "id": "QGEem8HF1aTP",
        "colab_type": "code",
        "colab": {}
      },
      "source": [
        "texts = []\n",
        "true_keywords = []\n",
        "for url in urls:\n",
        "    html_ = requests.get(url).text\n",
        "    text = '\\n'.join([line.strip() for line in re.findall('(?:<p .*?>|<p>)(.*?)</p>', html_, re.DOTALL) if line and line != '&lt;&hellip;&gt;'][:-8])\n",
        "    text = re.sub('<[^<>]*?>', '', text)\n",
        "    text = re.sub('\\n\\r', '\\n', text)\n",
        "    text = re.sub('\\n+', '\\n', text)\n",
        "    texts.append(text)\n",
        "    article_keywords = re.search('<div[^<>]*?><h5[^<>]*?>Теги: </h5>(.*?)</div>', html_).group(1)\n",
        "    article_keywords = re.findall('<a[^<>]*?>(.*?)</a>', article_keywords, re.DOTALL)\n",
        "    true_keywords.append(article_keywords)"
      ],
      "execution_count": 0,
      "outputs": []
    },
    {
      "cell_type": "code",
      "metadata": {
        "id": "_5RNW4X3s9tR",
        "colab_type": "code",
        "colab": {}
      },
      "source": [
        "for i, text in enumerate(texts):\n",
        "    for symbol in ['&raquo', '&laquo', '&mdash', '&nbsp']:\n",
        "        texts[i] = texts[i].replace(symbol, '')"
      ],
      "execution_count": 0,
      "outputs": []
    },
    {
      "cell_type": "code",
      "metadata": {
        "id": "2lBReiiQ5R-7",
        "colab_type": "code",
        "colab": {
          "base_uri": "https://localhost:8080/",
          "height": 101
        },
        "outputId": "0c6815b1-d3f7-4391-855e-487761540d2f"
      },
      "source": [
        "for keyword_list in true_keywords:\n",
        "    print(keyword_list)"
      ],
      "execution_count": 369,
      "outputs": [
        {
          "output_type": "stream",
          "text": [
            "['минобороны', 'убийство', 'дедовщина', 'военнослужащие', 'армия', 'россия']\n",
            "['протесты', 'экология', 'мусорный полигон', 'экоактивисты', 'архангельская область', 'шиес']\n",
            "['лженаука', 'фальсификация', 'плагиат', 'россия', 'голосование', 'российская академия наук']\n",
            "['анархисты', 'пенза', 'дело сети']\n",
            "['бюджет', 'мосгордума', 'москва', 'общественные слушания']\n"
          ],
          "name": "stdout"
        }
      ]
    },
    {
      "cell_type": "markdown",
      "metadata": {
        "id": "cCkjV4gTgxy3",
        "colab_type": "text"
      },
      "source": [
        "2. Разметить ключевые слова самостоятельно. Оценить пересечение с имеющейся разметкой."
      ]
    },
    {
      "cell_type": "code",
      "metadata": {
        "id": "ZAXvu38wWg8F",
        "colab_type": "code",
        "colab": {}
      },
      "source": [
        "our_keywords = [\n",
        "    ['изнасилование', 'мужеложство', 'армия', 'дедовщина', 'солдат', 'мат', 'караул', 'комиссия'],\n",
        "    ['шиес', 'палаточный лагерь', 'мусор', 'полигон', 'шлагбаум', 'митинг', 'чоп', 'дети'],\n",
        "    ['диссернет', 'ран', 'выборы', 'диссертация', 'плагиат'],\n",
        "    ['суд', 'сеть', 'пытки', 'пытать', 'дело', 'пенза', 'политика', 'фсб', 'следствие'],\n",
        "    ['бюджет', 'деньги', 'доходы', 'публичные слушания', 'общественные слушания', 'московская городская дума', 'москва']\n",
        "]"
      ],
      "execution_count": 0,
      "outputs": []
    },
    {
      "cell_type": "code",
      "metadata": {
        "id": "8qkyWNpWgwWT",
        "colab_type": "code",
        "colab": {
          "base_uri": "https://localhost:8080/",
          "height": 101
        },
        "outputId": "0610a1e6-60a5-4f63-bde7-f9123996ca3d"
      },
      "source": [
        "for i, (true_list, our_list) in enumerate(zip(true_keywords, our_keywords)):\n",
        "    print(f'{i + 1}-й текст:', len(set(true_list) & set(our_list)) / (len(set(true_list) | set(our_list))))"
      ],
      "execution_count": 371,
      "outputs": [
        {
          "output_type": "stream",
          "text": [
            "1-й текст: 0.16666666666666666\n",
            "2-й текст: 0.07692307692307693\n",
            "3-й текст: 0.1\n",
            "4-й текст: 0.09090909090909091\n",
            "5-й текст: 0.375\n"
          ],
          "name": "stdout"
        }
      ]
    },
    {
      "cell_type": "markdown",
      "metadata": {
        "id": "P-tCRM6Wh4r2",
        "colab_type": "text"
      },
      "source": [
        "3-4. Применить к этому корпусу 3 метода извлечения ключевых слов на выбор (RAKE, \n",
        "TextRank, tf*idf, OKAPI BM25).\n",
        "\n",
        "Оценить точность, полноту, F-меру выбранных методов относительно имеющейся разметки.\n",
        "\n"
      ]
    },
    {
      "cell_type": "code",
      "metadata": {
        "id": "YmzGh8JQj6Jv",
        "colab_type": "code",
        "colab": {}
      },
      "source": [
        "def precision(true_list, our_list):\n",
        "    tp = 0\n",
        "    fp = 0\n",
        "    for our_keyword in our_list:\n",
        "        if our_keyword in true_list:\n",
        "            tp += 1\n",
        "        else:\n",
        "            fp += 1\n",
        "    return tp / (tp + fp)"
      ],
      "execution_count": 0,
      "outputs": []
    },
    {
      "cell_type": "code",
      "metadata": {
        "id": "0qT4508Wj8_b",
        "colab_type": "code",
        "colab": {}
      },
      "source": [
        "def recall(true_list, our_list):\n",
        "    tp = 0\n",
        "    fn = 0\n",
        "    for our_keyword in our_list:\n",
        "        if our_keyword in true_list:\n",
        "            tp += 1\n",
        "    fn = len(true_list) - tp\n",
        "    return tp / (tp + fn)"
      ],
      "execution_count": 0,
      "outputs": []
    },
    {
      "cell_type": "code",
      "metadata": {
        "id": "7N_V2gMekCWF",
        "colab_type": "code",
        "colab": {}
      },
      "source": [
        "def f1(true_list, our_list):\n",
        "    p = precision(true_list, our_list)\n",
        "    r = recall(true_list, our_list)\n",
        "    if not (p + r):\n",
        "        return 0.0\n",
        "    return 2 * p * r / (p + r)"
      ],
      "execution_count": 0,
      "outputs": []
    },
    {
      "cell_type": "code",
      "metadata": {
        "id": "DTqI9uM2oSiN",
        "colab_type": "code",
        "colab": {}
      },
      "source": [
        "def print_metrics(true_lists, our_lists):\n",
        "    precisions = []\n",
        "    recalls = []\n",
        "    f1s = []\n",
        "    for i, (true_list, our_list) in enumerate(zip(true_lists, our_lists)):\n",
        "        p = precision(true_list, our_list)\n",
        "        precisions.append(p)\n",
        "        r = recall(true_list, our_list)\n",
        "        recalls.append(r)\n",
        "        f1_value = f1(true_list, our_list)\n",
        "        f1s.append(f1_value)\n",
        "        print(\n",
        "            f'{i + 1}-й текст:\\n'\n",
        "            f'{our_list}\\n'\n",
        "            f'Precision: {p}\\n'\n",
        "            f'Recall: {r}\\n'\n",
        "            f'F1: {f1_value}\\n'\n",
        "        )\n",
        "    mean_precision = sum(precisions) / len(precisions)\n",
        "    mean_recall = sum(recalls) / len(recalls)\n",
        "    mean_f1 = sum(f1s) / len(f1s)\n",
        "    print(\n",
        "        f'Mean Precision: {mean_precision}\\n'\n",
        "        f'Mean Recall: {mean_recall}\\n'\n",
        "        f'Mean F1: {mean_f1}\\n'\n",
        "    )\n",
        "    return mean_precision, mean_recall, mean_f1"
      ],
      "execution_count": 0,
      "outputs": []
    },
    {
      "cell_type": "markdown",
      "metadata": {
        "id": "5wA7BNuViDGj",
        "colab_type": "text"
      },
      "source": [
        "RAKE"
      ]
    },
    {
      "cell_type": "code",
      "metadata": {
        "id": "rqGJ4ZS_hWmC",
        "colab_type": "code",
        "colab": {}
      },
      "source": [
        "rake = RAKE.Rake(rus_stopwords)"
      ],
      "execution_count": 0,
      "outputs": []
    },
    {
      "cell_type": "code",
      "metadata": {
        "id": "GaLsoy9CiMKU",
        "colab_type": "code",
        "colab": {
          "base_uri": "https://localhost:8080/",
          "height": 608
        },
        "outputId": "3393be57-32a0-4f6f-b2aa-fa00511fe0e2"
      },
      "source": [
        "# без лемматизации\n",
        "texts_keywords = []\n",
        "for i, text in enumerate(texts):\n",
        "    text_keywords = rake.run(text, maxWords=3, minFrequency=2)\n",
        "    text_keywords = [pair[0] for pair in text_keywords]\n",
        "    texts_keywords.append(text_keywords)\n",
        "\n",
        "print_metrics(our_keywords, texts_keywords);"
      ],
      "execution_count": 377,
      "outputs": [
        {
          "output_type": "stream",
          "text": [
            "1-й текст:\n",
            "['грубой форме', 'можете сказать', 'мирное время', 'шамсутдинов', 'это', 'однако', 'деньги', 'караул', 'трагедии', 'телефон', 'скорее', 'р', 'известно']\n",
            "Precision: 0.07692307692307693\n",
            "Recall: 0.125\n",
            "F1: 0.09523809523809525\n",
            "\n",
            "2-й текст:\n",
            "['люди', 'работу', 'шиес', 'тревога', 'уверенность', 'сплоченность', 'здоровье', 'шлагбауме', 'чоповцами', 'шиесе', 'подумал']\n",
            "Precision: 0.09090909090909091\n",
            "Recall: 0.125\n",
            "F1: 0.10526315789473685\n",
            "\n",
            "3-й текст:\n",
            "['ран', 'это', 'науке']\n",
            "Precision: 0.3333333333333333\n",
            "Recall: 0.2\n",
            "F1: 0.25\n",
            "\n",
            "4-й текст:\n",
            "['экономический крен', 'николая антонова', 'это называется', 'пенза-пост', 'именно', 'пензе', 'фсб', 'токарев', 'это', 'суд', 'шматко', 'пенза', 'просто', 'сказал', 'дела', 'рассказывает', 'деле', 'действительно', 'сети', 'связи', 'сеть', 'городе', 'шарипков', 'решим', 'подсудимые', 'кем', 'думаю', 'вскроется', 'сплоченность', 'судя', 'всему']\n",
            "Precision: 0.12903225806451613\n",
            "Recall: 0.4444444444444444\n",
            "F1: 0.19999999999999998\n",
            "\n",
            "5-й текст:\n",
            "['публичные слушания', 'социальную сферу', 'единой россии', 'время', 'это', 'кроме', 'уложиться', 'нам']\n",
            "Precision: 0.125\n",
            "Recall: 0.14285714285714285\n",
            "F1: 0.13333333333333333\n",
            "\n",
            "Mean Precision: 0.15103955184600346\n",
            "Mean Recall: 0.20746031746031743\n",
            "Mean F1: 0.15676691729323305\n",
            "\n"
          ],
          "name": "stdout"
        }
      ]
    },
    {
      "cell_type": "code",
      "metadata": {
        "id": "p-K22cxsi6X0",
        "colab_type": "code",
        "colab": {}
      },
      "source": [
        "def normalize_text(text):\n",
        "    lemmas = []\n",
        "    for t in simple_word_tokenize(text):\n",
        "        lemmas.append(\n",
        "            morph_analyzer.parse(t)[0].normal_form\n",
        "        )\n",
        "    return ' '.join(lemmas)"
      ],
      "execution_count": 0,
      "outputs": []
    },
    {
      "cell_type": "code",
      "metadata": {
        "id": "XsERWlZzuiyX",
        "colab_type": "code",
        "colab": {}
      },
      "source": [
        "normalized_our_keywords = [[normalize_text(keyword) for keyword in keywords] for keywords in our_keywords]\n",
        "normalized_texts = [normalize_text(text) for text in texts]"
      ],
      "execution_count": 0,
      "outputs": []
    },
    {
      "cell_type": "code",
      "metadata": {
        "id": "r7umPVDApsNa",
        "colab_type": "code",
        "colab": {
          "base_uri": "https://localhost:8080/",
          "height": 608
        },
        "outputId": "dd21f844-c301-4764-b2b6-53a767e06936"
      },
      "source": [
        "# с лемматизацией\n",
        "texts_keywords = []\n",
        "for i in range(len(texts)):\n",
        "    text_keywords = rake.run(normalized_texts[i], maxWords=3, minFrequency=2)\n",
        "    text_keywords = [pair[0] for pair in text_keywords]\n",
        "    texts_keywords.append(text_keywords)\n",
        "\n",
        "rake_mean_precision, rake_mean_recall, rake_mean_f1 = print_metrics(normalized_our_keywords, texts_keywords)"
      ],
      "execution_count": 380,
      "outputs": [
        {
          "output_type": "stream",
          "text": [
            "1-й текст:\n",
            "['совершить половый сношение', 'грубый форма', 'рядовой шамсутдинов', 'мирный время', 'отношение', 'караул', 'дедовщина', 'шамсутдин', 'который', 'это', 'однако', 'солдат', 'деньга', 'ходить', 'трагедия', 'телефон', 'история', 'применять', 'командир', 'скорее', 'р', 'известно']\n",
            "Precision: 0.13636363636363635\n",
            "Recall: 0.375\n",
            "F1: 0.19999999999999998\n",
            "\n",
            "2-й текст:\n",
            "['регион', 'человек', 'пост', 'работа', 'шиес', 'тревога', 'уверенность', 'сплочённость', 'здоровье', 'узнать', 'шлагбаум', 'чоповца', 'поехать', 'подумать', 'разговаривать', 'улица']\n",
            "Precision: 0.125\n",
            "Recall: 0.25\n",
            "F1: 0.16666666666666666\n",
            "\n",
            "3-й текст:\n",
            "['который', 'рана', 'это', 'наука', 'никто', 'писать']\n",
            "Precision: 0.16666666666666666\n",
            "Recall: 0.2\n",
            "F1: 0.1818181818181818\n",
            "\n",
            "4-й текст:\n",
            "['поколение новое время', 'это называться', 'экономический крен', 'пенза-пост', 'заниматься политика', 'николай антонов', 'именно', 'который', 'это', 'фсб', 'пенза', 'суд', 'токарев', 'весь', 'дело', 'фашист', 'мочь', 'шматко', 'маленький', 'пытка', 'говорить', 'просто', 'сказать', 'город', 'действительно', 'рассказывать', 'сеть', 'связь', 'слышать', 'большой', 'шарипковы', 'подсудимый', 'тема', 'ответить', 'думать', 'разговор', 'дать', 'сплочённость', 'судить']\n",
            "Precision: 0.15384615384615385\n",
            "Recall: 0.6666666666666666\n",
            "F1: 0.25\n",
            "\n",
            "5-й текст:\n",
            "['простой человек', 'системный депутат', 'публичный слушание', 'единый россия', 'социальный сфера', 'время', 'который', 'хотеть', 'это', 'вопрос', 'кроме', 'получаться', 'минута', 'процедура']\n",
            "Precision: 0.07142857142857142\n",
            "Recall: 0.14285714285714285\n",
            "F1: 0.09523809523809523\n",
            "\n",
            "Mean Precision: 0.13066100566100564\n",
            "Mean Recall: 0.3269047619047619\n",
            "Mean F1: 0.17874458874458873\n",
            "\n"
          ],
          "name": "stdout"
        }
      ]
    },
    {
      "cell_type": "markdown",
      "metadata": {
        "id": "o-Y6WwMMuGHx",
        "colab_type": "text"
      },
      "source": [
        "TextRank"
      ]
    },
    {
      "cell_type": "code",
      "metadata": {
        "id": "ZY_LnV6Fp1YU",
        "colab_type": "code",
        "colab": {
          "base_uri": "https://localhost:8080/",
          "height": 588
        },
        "outputId": "3f21bf8b-d27b-4105-af6c-e404506ae432"
      },
      "source": [
        "# с лемматизацией\n",
        "texts_keywords = []\n",
        "for i in range(len(texts)):\n",
        "    text_keywords = kw(normalized_texts[i], pos_filter=[], split=True, lemmatize=False, words=NUM_OF_WORDS)\n",
        "    texts_keywords.append(text_keywords)\n",
        "\n",
        "text_rank_mean_precision, text_rank_mean_recall, text_rank_mean_f1 = print_metrics(normalized_our_keywords, texts_keywords)"
      ],
      "execution_count": 381,
      "outputs": [
        {
          "output_type": "stream",
          "text": [
            "1-й текст:\n",
            "['быть', 'что', 'это', 'солдат', 'служба', 'для', 'причина', 'возможность', 'свои', 'нет', 'шамсутдинов', 'отношение', 'погибшии', 'как', 'шамсутдин']\n",
            "Precision: 0.06666666666666667\n",
            "Recall: 0.125\n",
            "F1: 0.08695652173913045\n",
            "\n",
            "2-й текст:\n",
            "['человек', 'они', 'что', 'как', 'это', 'весь', 'быть', 'когда', 'наш', 'стоять', 'даже', 'год', 'митинг', 'она', 'полиция']\n",
            "Precision: 0.06666666666666667\n",
            "Recall: 0.125\n",
            "F1: 0.08695652173913045\n",
            "\n",
            "3-й текст:\n",
            "['что', 'научныи', 'которыи', 'кандидат', 'это', 'рана', 'свои', 'ученыи', 'этот', 'информационныи', 'быть', 'диссертация', 'академия', 'писать', 'тот']\n",
            "Precision: 0.13333333333333333\n",
            "Recall: 0.4\n",
            "F1: 0.2\n",
            "\n",
            "4-й текст:\n",
            "['что', 'весь', 'это', 'дело', 'как', 'пензенскии', 'быть', 'токарев', 'пенза', 'они', 'которыи', 'против', 'так', 'сеть', 'обвинение']\n",
            "Precision: 0.2\n",
            "Recall: 0.3333333333333333\n",
            "F1: 0.25\n",
            "\n",
            "5-й текст:\n",
            "['бюджет', 'депутат', 'что москва быть', 'это', 'весь', 'человек', 'которыи', 'публичныи слушание', 'участник', 'как', 'большои', 'сеичас']\n",
            "Precision: 0.08333333333333333\n",
            "Recall: 0.14285714285714285\n",
            "F1: 0.10526315789473685\n",
            "\n",
            "Mean Precision: 0.11000000000000001\n",
            "Mean Recall: 0.22523809523809524\n",
            "Mean F1: 0.14583524027459954\n",
            "\n"
          ],
          "name": "stdout"
        }
      ]
    },
    {
      "cell_type": "markdown",
      "metadata": {
        "id": "kg0POi-36xlq",
        "colab_type": "text"
      },
      "source": [
        "TF-IDF"
      ]
    },
    {
      "cell_type": "code",
      "metadata": {
        "id": "FEloOn7xzrub",
        "colab_type": "code",
        "colab": {}
      },
      "source": [
        "vectorizer = TfidfVectorizer(stop_words=rus_stopwords)\n",
        "matrix = vectorizer.fit_transform(normalized_texts)"
      ],
      "execution_count": 0,
      "outputs": []
    },
    {
      "cell_type": "code",
      "metadata": {
        "id": "liWq8X819B2R",
        "colab_type": "code",
        "colab": {}
      },
      "source": [
        "words = np.array(vectorizer.get_feature_names())"
      ],
      "execution_count": 0,
      "outputs": []
    },
    {
      "cell_type": "code",
      "metadata": {
        "id": "zemafn_hEo39",
        "colab_type": "code",
        "colab": {
          "base_uri": "https://localhost:8080/",
          "height": 722
        },
        "outputId": "f436f44d-036f-4e63-fed0-eceaadd87da5"
      },
      "source": [
        "# с лемматизацией\n",
        "texts_keywords = []\n",
        "for i in range(len(texts)):\n",
        "    text_keywords = words[np.argsort(matrix[i].toarray()).flatten()[::-1][:NUM_OF_WORDS]]\n",
        "    texts_keywords.append(text_keywords)\n",
        "\n",
        "tf_idf_mean_precision, tf_idf_mean_recall, tf_idf_mean_f1 = print_metrics(normalized_our_keywords, texts_keywords)"
      ],
      "execution_count": 384,
      "outputs": [
        {
          "output_type": "stream",
          "text": [
            "1-й текст:\n",
            "['солдат' 'это' 'служба' 'шамсутдинов' 'караул' 'отношение' 'причина'\n",
            " 'шамсутдин' 'дедовщина' 'погибший' 'минобороны' 'мочь' 'комиссия'\n",
            " 'возможность' 'командир']\n",
            "Precision: 0.26666666666666666\n",
            "Recall: 0.5\n",
            "F1: 0.3478260869565218\n",
            "\n",
            "2-й текст:\n",
            "['шиес' 'человек' 'наш' 'это' 'регион' 'активист' 'полиция' 'природа'\n",
            " 'ездить' 'стоять' 'лагерь' 'чоповца' 'точка' 'шлагбаум' 'полигон']\n",
            "Precision: 0.2\n",
            "Recall: 0.375\n",
            "F1: 0.26086956521739135\n",
            "\n",
            "3-й текст:\n",
            "['рана' 'научный' 'кандидат' 'писать' 'диссертация' 'наука' 'академия'\n",
            " 'комиссия' 'информационный' 'фальсификация' 'учёный' 'который' 'это'\n",
            " 'пройти' 'нарушение']\n",
            "Precision: 0.13333333333333333\n",
            "Recall: 0.4\n",
            "F1: 0.2\n",
            "\n",
            "4-й текст:\n",
            "['сеть' 'весь' 'пензенский' 'токарев' 'пенза' 'дело' 'это' 'фсб' 'шматко'\n",
            " 'пытка' 'обвинение' 'суд' 'город' 'против' 'который']\n",
            "Precision: 0.4\n",
            "Recall: 0.6666666666666666\n",
            "F1: 0.5\n",
            "\n",
            "5-й текст:\n",
            "['бюджет' 'слушание' 'депутат' 'москва' 'общественный' 'палата' 'это'\n",
            " 'публичный' 'участник' 'время' 'весь' 'расход' 'выступление' 'хотеть'\n",
            " 'город']\n",
            "Precision: 0.13333333333333333\n",
            "Recall: 0.2857142857142857\n",
            "F1: 0.18181818181818182\n",
            "\n",
            "Mean Precision: 0.22666666666666666\n",
            "Mean Recall: 0.4454761904761904\n",
            "Mean F1: 0.29810276679841896\n",
            "\n"
          ],
          "name": "stdout"
        }
      ]
    },
    {
      "cell_type": "markdown",
      "metadata": {
        "id": "-cGULcCmE-Kh",
        "colab_type": "text"
      },
      "source": [
        "5. Описать ошибки автоматического выделения ключевых слов (что выделяется лишнее, что не выделяется); предложить свои методы решения этих проблем."
      ]
    },
    {
      "cell_type": "code",
      "metadata": {
        "id": "W8c4D4-TGRL5",
        "colab_type": "code",
        "colab": {}
      },
      "source": [
        "def draw_graph(values, labels, ylabel='Value'):\n",
        "    assert len(values) == len(labels)\n",
        "    fig, ax = plt.subplots()\n",
        "    rects = ax.bar(range(len(values)), values, 0.5, color='g')\n",
        "    ax.set_ylabel(ylabel)\n",
        "    ax.set_xticks(np.add(range(len(values)), 1/100))\n",
        "    ax.set_xticklabels((labels))\n",
        "    plt.show()"
      ],
      "execution_count": 0,
      "outputs": []
    },
    {
      "cell_type": "code",
      "metadata": {
        "id": "PJYz0gg0FbxE",
        "colab_type": "code",
        "colab": {}
      },
      "source": [
        "labels = ['RAKE', 'TextRank', 'tf-idf']"
      ],
      "execution_count": 0,
      "outputs": []
    },
    {
      "cell_type": "code",
      "metadata": {
        "id": "UJckIgvFHhH7",
        "colab_type": "code",
        "colab": {
          "base_uri": "https://localhost:8080/",
          "height": 265
        },
        "outputId": "aa2b2a94-c227-407c-ea67-30634a4b434f"
      },
      "source": [
        "draw_graph([rake_mean_precision, text_rank_mean_precision, tf_idf_mean_precision], labels, ylabel='Precision')"
      ],
      "execution_count": 387,
      "outputs": [
        {
          "output_type": "display_data",
          "data": {
            "image/png": "[encoded data removed]",
            "text/plain": [
              "<Figure size 432x288 with 1 Axes>"
            ]
          },
          "metadata": {
            "tags": []
          }
        }
      ]
    },
    {
      "cell_type": "code",
      "metadata": {
        "id": "ZAXS1lilHDAq",
        "colab_type": "code",
        "colab": {
          "base_uri": "https://localhost:8080/",
          "height": 265
        },
        "outputId": "20d2bc9c-be43-4d0b-a2f0-4756f30db6b7"
      },
      "source": [
        "draw_graph([rake_mean_recall, text_rank_mean_recall, tf_idf_mean_recall], labels, ylabel='Recall')"
      ],
      "execution_count": 388,
      "outputs": [
        {
          "output_type": "display_data",
          "data": {
            "image/png": "[encoded data removed]",
            "text/plain": [
              "<Figure size 432x288 with 1 Axes>"
            ]
          },
          "metadata": {
            "tags": []
          }
        }
      ]
    },
    {
      "cell_type": "code",
      "metadata": {
        "id": "ikAKbbuWG5u5",
        "colab_type": "code",
        "colab": {
          "base_uri": "https://localhost:8080/",
          "height": 265
        },
        "outputId": "5a464a8d-f88e-4a96-e5a7-35b372efc8c9"
      },
      "source": [
        "draw_graph([rake_mean_f1, text_rank_mean_f1, tf_idf_mean_f1], labels, ylabel='F1')"
      ],
      "execution_count": 389,
      "outputs": [
        {
          "output_type": "display_data",
          "data": {
            "image/png": "[encoded data removed]",
            "text/plain": [
              "<Figure size 432x288 with 1 Axes>"
            ]
          },
          "metadata": {
            "tags": []
          }
        }
      ]
    },
    {
      "cell_type": "markdown",
      "metadata": {
        "id": "ydANyCFNJvzc",
        "colab_type": "text"
      },
      "source": [
        "Несмотря на то, что tf-idf выделяет исключительно однословные ключевые слова, этот алгоритм показывает наилучшее качество по всем метрикам (по f1 как следствие из precision и recall). Вероятно, хотя бы отчасти это связано с тем, что я сам при выделении ключевых слов ориентировался на частотность; rake и TextRank тоже учитывают частотность, но в качестве нормирующего (поощрение слов, часто встречающихся в длинных фразах) и стохастически соответственно. Недостаток с униграммами (как получить \"Московскую городскую думу\" в 5-м тексте?) можно решить, если сделать tf-idf так же на биграммах, триграммах и n-граммах и выводить варианты с самыми большими значениями. Однако не очень понятно, уместно ли будет сравнивать tf-idf значения на униграммах и биграммах? т.к. tf биграмм будем явно меньше, чем униграмм. Возможно, правильнее будет набирать подходящие варианты (с самым большим значением tf) в уменьшающейся пропорции (например, 10 униграмм, 5 биграмм, 1 триграмму, т.к. мы на самом деле не очень ожидаем, что ключевые фразы будут состоять из очень большого количества слов).\n",
        "\n",
        "Rake сам по себе отдаёт предпочтение более длинным последовательностям, тогда как у меня в \"правильных\" ответах преимущественно фразы из одного слова. Так, если будет какая-нибудь длинная фраза с уникальными словами, то она сразу выйдет в топ, поэтому мы ограничиваем алгоритм 3 словами (если больше, то больше шума). Но в результате, например, такие слова, как \"полигон\" во втором тексте не учитываются, т.к. входят в длинные последовательности. Возможно, с шумом надо бороться по-другому: на ум приходит в числителе не вес учитывать, а некоторую функцию от отношения частоты к общему количеству слов в тексте, например, перевёрнутую и сдвинутую по оси x вправо квадратичную функцию, т.к., на мой взгляд, если короткое слово часто встречается отдельно, а не только в составе длинных фраз, это не повод его \"гасить\", в этом случае нужна эвристика, насколько часто должно встречаться слово, чтобы считать его шумом (не вошедшим в стоп-слова), а когда наоборот признаком того, что слово является ключевым. Проблема наличия эвристики в том, что для разных жанров она, вероятно, будет своя, но, может быть, это не проблема, т.к. есть \"No Free Lunch Theorem\".\n",
        "\n",
        "TextRank ведёт себя хуже всего, поскольку реализация в gensim-е так себе: даже с lemmatize=False он всё равно лемматизирует по-своему, что в итоге даёт \"пензенскии\", \"публичныи\", ... + нельзя передать стоп-слова. Если бы не это, то качество было бы лучше. Из-за случайного блуждания теоретически возможны не самые лучшие варианты. Даже если мы ограничимся чисто именными группами, нужно дополнительно отсеивать некоторые кейсы типа указательного местоимения \"этот\"."
      ]
    },
    {
      "cell_type": "code",
      "metadata": {
        "id": "wK8wt9Ydb8x5",
        "colab_type": "code",
        "colab": {}
      },
      "source": [
        ""
      ],
      "execution_count": 0,
      "outputs": []
    }
  ]
}